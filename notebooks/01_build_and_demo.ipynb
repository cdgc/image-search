{
 "cells": [
  {
   "cell_type": "markdown",
   "id": "87d74932",
   "metadata": {},
   "source": [
    "1. Intro & Setup"
   ]
  },
  {
   "cell_type": "code",
   "execution_count": null,
   "id": "3377d6cc",
   "metadata": {},
   "outputs": [],
   "source": [
    "!pip install -r requirements.txt"
   ]
  },
  {
   "cell_type": "markdown",
   "id": "5128faf2",
   "metadata": {},
   "source": [
    "2. (Optional) Download a subset of images for demo"
   ]
  },
  {
   "cell_type": "code",
   "execution_count": null,
   "id": "23b1c4d2",
   "metadata": {},
   "outputs": [],
   "source": [
    "%env DATA_DIR=./data\n",
    "!python scripts/download_images.py  # or set num_images inside script"
   ]
  },
  {
   "cell_type": "markdown",
   "id": "87aa2415",
   "metadata": {},
   "source": [
    "3. Build embeddings & FAISS index"
   ]
  },
  {
   "cell_type": "code",
   "execution_count": null,
   "id": "4fb39001",
   "metadata": {},
   "outputs": [],
   "source": [
    "!python scripts/build_index.py"
   ]
  },
  {
   "cell_type": "markdown",
   "id": "31d6f136",
   "metadata": {},
   "source": [
    "4. Smoke test the API locally (non-Docker)"
   ]
  },
  {
   "cell_type": "code",
   "execution_count": null,
   "id": "998f37f1",
   "metadata": {},
   "outputs": [],
   "source": [
    "import requests, json, threading, time, uvicorn\n",
    "from app.main import app\n",
    "\n",
    "def run_app():\n",
    "    uvicorn.run(app, host=\"0.0.0.0\", port=8000, log_level=\"warning\")\n",
    "\n",
    "thr = threading.Thread(target=run_app, daemon=True)\n",
    "thr.start()\n",
    "time.sleep(2)\n",
    "\n",
    "resp = requests.post(\"http://localhost:8000/search\",\n",
    "                     json={\"query\":\"red car on street\", \"top_k\":5})\n",
    "resp.json()\n"
   ]
  },
  {
   "cell_type": "markdown",
   "id": "7ed3891c",
   "metadata": {},
   "source": [
    "5. Visualize results (inline)"
   ]
  },
  {
   "cell_type": "code",
   "execution_count": null,
   "id": "7516afc1",
   "metadata": {},
   "outputs": [],
   "source": [
    "from PIL import Image\n",
    "import matplotlib.pyplot as plt\n",
    "import requests\n",
    "\n",
    "results = resp.json()[\"results\"]\n",
    "plt.figure(figsize=(12,6))\n",
    "for i, r in enumerate(results, 1):\n",
    "    plt.subplot(1, len(results), i)\n",
    "    img = Image.open(r[\"path\"]).convert(\"RGB\")\n",
    "    plt.imshow(img)\n",
    "    plt.title(f\"{i}. {r['similarity']:.2f}\")\n",
    "    plt.axis('off')\n",
    "plt.show()\n",
    "\n",
    "for r in results:\n",
    "    print(f\"{r['rank']}. {r['path']} -> {r['explanation']}\")\n"
   ]
  }
 ],
 "metadata": {
  "kernelspec": {
   "display_name": "Python 3",
   "language": "python",
   "name": "python3"
  },
  "language_info": {
   "name": "python",
   "version": "3.10.14"
  }
 },
 "nbformat": 4,
 "nbformat_minor": 5
}
